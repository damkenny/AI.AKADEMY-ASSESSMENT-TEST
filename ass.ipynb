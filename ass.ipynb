{
 "cells": [
  {
   "cell_type": "code",
   "execution_count": 1,
   "metadata": {},
   "outputs": [
    {
     "data": {
      "text/plain": [
       "56"
      ]
     },
     "execution_count": 1,
     "metadata": {},
     "output_type": "execute_result"
    }
   ],
   "source": [
    "### Task one  The input parameter amount is a non-negative int value which is 1156and \n",
    "# the function cashier must return a dictionary with the following structure .The dict includes \n",
    "# Dollars,Nickels ,Quarters,dimes and pennies.\n",
    "\n",
    "### using the cashier (1156) divides 100 dollars and the remainder modulus 100 dallars.\n",
    "\n",
    "1156%100"
   ]
  },
  {
   "cell_type": "code",
   "execution_count": 15,
   "metadata": {},
   "outputs": [
    {
     "data": {
      "text/plain": [
       "11"
      ]
     },
     "execution_count": 15,
     "metadata": {},
     "output_type": "execute_result"
    }
   ],
   "source": [
    "1156//100"
   ]
  },
  {
   "cell_type": "code",
   "execution_count": 50,
   "metadata": {},
   "outputs": [],
   "source": [
    "\n",
    "\n",
    "\n",
    "def cashier(amount):\n",
    "    \n",
    "    cashier_dic = {}\n",
    "    \n",
    "    dollars = amount//100\n",
    "    remainder = amount%100\n",
    "    cashier_dic['dollars'] = dollars\n",
    "    \n",
    "    quarters = remainder//25\n",
    "    remainder = remainder%25\n",
    "    cashier_dic['quarters'] = quarters\n",
    "    \n",
    "    dimes = remainder//10\n",
    "    remainder = remainder%10\n",
    "    cashier_dic['dimes'] = dimes\n",
    "    \n",
    "    nickels = remainder//5\n",
    "    remainder = remainder%5\n",
    "    cashier_dic['nickels'] = nickels\n",
    "    \n",
    "    pennies = remainder//1\n",
    "    remainder = remainder%1\n",
    "    cashier_dic['pennies'] = pennies\n",
    "    \n",
    "    return cashier_dic\n",
    "     \n",
    "    "
   ]
  },
  {
   "cell_type": "code",
   "execution_count": 51,
   "metadata": {},
   "outputs": [
    {
     "data": {
      "text/plain": [
       "{'dollars': 11, 'quarters': 2, 'dimes': 0, 'nickels': 1, 'pennies': 1}"
      ]
     },
     "execution_count": 51,
     "metadata": {},
     "output_type": "execute_result"
    }
   ],
   "source": [
    "cashier(1156)"
   ]
  },
  {
   "cell_type": "code",
   "execution_count": 37,
   "metadata": {},
   "outputs": [
    {
     "data": {
      "text/plain": [
       "56"
      ]
     },
     "execution_count": 37,
     "metadata": {},
     "output_type": "execute_result"
    }
   ],
   "source": [
    "1156%100"
   ]
  },
  {
   "cell_type": "raw",
   "metadata": {},
   "source": [
    "round(5.56566, 1)"
   ]
  },
  {
   "cell_type": "code",
   "execution_count": 52,
   "metadata": {},
   "outputs": [
    {
     "data": {
      "text/plain": [
       "5.6"
      ]
     },
     "execution_count": 52,
     "metadata": {},
     "output_type": "execute_result"
    }
   ],
   "source": [
    "round(5.5555, 1)"
   ]
  },
  {
   "cell_type": "code",
   "execution_count": 98,
   "metadata": {},
   "outputs": [],
   "source": [
    "# Task 2 The list contain 0 to 10 and the code belows shows an exception \n",
    "# if number is not between 0 and 10 and also rounding up values to the nearest half points\n",
    "\n",
    "import math\n",
    "def convert_grade(grade):  \n",
    "    if (grade < 0) or (grade > 10):\n",
    "        raise Exception (\"Grades must be values between 0 and 10.\")\n",
    "    \n",
    "    rounded_grade = math.floor(grade, 1)\n",
    "    \n",
    "    if (rounded_grade >= 8.5) and (rounded_grade <=10):\n",
    "        return \"A\"\n",
    "    if (rounded_grade >= 7.5) and (rounded_grade <=8):\n",
    "        return \"B\"\n",
    "    if (rounded_grade >= 6.5) and (rounded_grade <=7):\n",
    "        return \"C\"\n",
    "    if (rounded_grade >= 5.5) and (rounded_grade <=6):\n",
    "        return \"D\"\n",
    "    else:\n",
    "        return \"F\""
   ]
  },
  {
   "cell_type": "code",
   "execution_count": 99,
   "metadata": {},
   "outputs": [
    {
     "ename": "Exception",
     "evalue": "Grades must be values between 0 and 10.",
     "output_type": "error",
     "traceback": [
      "\u001b[1;31m---------------------------------------------------------------------------\u001b[0m",
      "\u001b[1;31mException\u001b[0m                                 Traceback (most recent call last)",
      "\u001b[1;32m<ipython-input-99-8a06f842f949>\u001b[0m in \u001b[0;36m<module>\u001b[1;34m\u001b[0m\n\u001b[1;32m----> 1\u001b[1;33m \u001b[0mconvert_grade\u001b[0m\u001b[1;33m(\u001b[0m\u001b[1;36m11\u001b[0m\u001b[1;33m)\u001b[0m\u001b[1;33m\u001b[0m\u001b[1;33m\u001b[0m\u001b[0m\n\u001b[0m",
      "\u001b[1;32m<ipython-input-98-72a6f48e5ed7>\u001b[0m in \u001b[0;36mconvert_grade\u001b[1;34m(grade)\u001b[0m\n\u001b[0;32m      2\u001b[0m \u001b[1;32mdef\u001b[0m \u001b[0mconvert_grade\u001b[0m\u001b[1;33m(\u001b[0m\u001b[0mgrade\u001b[0m\u001b[1;33m)\u001b[0m\u001b[1;33m:\u001b[0m\u001b[1;33m\u001b[0m\u001b[1;33m\u001b[0m\u001b[0m\n\u001b[0;32m      3\u001b[0m     \u001b[1;32mif\u001b[0m \u001b[1;33m(\u001b[0m\u001b[0mgrade\u001b[0m \u001b[1;33m<\u001b[0m \u001b[1;36m0\u001b[0m\u001b[1;33m)\u001b[0m \u001b[1;32mor\u001b[0m \u001b[1;33m(\u001b[0m\u001b[0mgrade\u001b[0m \u001b[1;33m>\u001b[0m \u001b[1;36m10\u001b[0m\u001b[1;33m)\u001b[0m\u001b[1;33m:\u001b[0m\u001b[1;33m\u001b[0m\u001b[1;33m\u001b[0m\u001b[0m\n\u001b[1;32m----> 4\u001b[1;33m         \u001b[1;32mraise\u001b[0m \u001b[0mException\u001b[0m \u001b[1;33m(\u001b[0m\u001b[1;34m\"Grades must be values between 0 and 10.\"\u001b[0m\u001b[1;33m)\u001b[0m\u001b[1;33m\u001b[0m\u001b[1;33m\u001b[0m\u001b[0m\n\u001b[0m\u001b[0;32m      5\u001b[0m \u001b[1;33m\u001b[0m\u001b[0m\n\u001b[0;32m      6\u001b[0m     \u001b[0mrounded_grade\u001b[0m \u001b[1;33m=\u001b[0m \u001b[0mmath\u001b[0m\u001b[1;33m.\u001b[0m\u001b[0mfloor\u001b[0m\u001b[1;33m(\u001b[0m\u001b[0mgrade\u001b[0m\u001b[1;33m,\u001b[0m \u001b[1;36m1\u001b[0m\u001b[1;33m)\u001b[0m\u001b[1;33m\u001b[0m\u001b[1;33m\u001b[0m\u001b[0m\n",
      "\u001b[1;31mException\u001b[0m: Grades must be values between 0 and 10."
     ]
    }
   ],
   "source": [
    "convert_grade(11)"
   ]
  },
  {
   "cell_type": "code",
   "execution_count": 94,
   "metadata": {},
   "outputs": [],
   "source": [
    "vowels = [\"a\",\"e\",\"i\",\"o\",\"u\"]\n",
    "\n",
    "def count_vowels(word):\n",
    "    counts = {}\n",
    "    \n",
    "    for letter in word:\n",
    "        if letter in vowels:\n",
    "            counts[letter] = counts.get(letter, 0) + 1\n",
    "            \n",
    "    return counts\n",
    "        \n",
    "    "
   ]
  },
  {
   "cell_type": "code",
   "execution_count": 96,
   "metadata": {},
   "outputs": [
    {
     "data": {
      "text/plain": [
       "{'i': 2, 'a': 2, 'e': 1}"
      ]
     },
     "execution_count": 96,
     "metadata": {},
     "output_type": "execute_result"
    }
   ],
   "source": [
    "count_vowels(\"Michael Palin\")"
   ]
  },
  {
   "cell_type": "code",
   "execution_count": 7,
   "metadata": {},
   "outputs": [],
   "source": [
    "# Task 4 choosing the numbers which are prime numbers\n",
    "\n",
    "def is_prime(num):\n",
    "    if (num == 1):\n",
    "        return False\n",
    "    elif (num == 3):\n",
    "        return True     \n",
    "    else:\n",
    "        for i in range (2, num):\n",
    "            if (num % i == 0):\n",
    "                return False     \n",
    "        return True  "
   ]
  },
  {
   "cell_type": "code",
   "execution_count": 8,
   "metadata": {},
   "outputs": [
    {
     "data": {
      "text/plain": [
       "False"
      ]
     },
     "execution_count": 8,
     "metadata": {},
     "output_type": "execute_result"
    }
   ],
   "source": [
    "is_prime(15)"
   ]
  },
  {
   "cell_type": "code",
   "execution_count": 9,
   "metadata": {},
   "outputs": [
    {
     "ename": "NameError",
     "evalue": "name 'count_words' is not defined",
     "output_type": "error",
     "traceback": [
      "\u001b[1;31m---------------------------------------------------------------------------\u001b[0m",
      "\u001b[1;31mNameError\u001b[0m                                 Traceback (most recent call last)",
      "\u001b[1;32m<ipython-input-9-43a622b679c8>\u001b[0m in \u001b[0;36m<module>\u001b[1;34m\u001b[0m\n\u001b[0;32m      7\u001b[0m If a woodchuck could chuck wood  \"\"\"\n\u001b[0;32m      8\u001b[0m \u001b[1;33m\u001b[0m\u001b[0m\n\u001b[1;32m----> 9\u001b[1;33m \u001b[0mcount_words\u001b[0m\u001b[1;33m(\u001b[0m\u001b[0mtext\u001b[0m\u001b[1;33m)\u001b[0m\u001b[1;33m\u001b[0m\u001b[1;33m\u001b[0m\u001b[0m\n\u001b[0m",
      "\u001b[1;31mNameError\u001b[0m: name 'count_words' is not defined"
     ]
    }
   ],
   "source": [
    "#Task 5 from assignment import count_words.By counting the number of words,as it appears.\n",
    "\n",
    "text = \"\"\"  How much wood would a woodchuck chuck\n",
    "If a woodchuck could chuck wood?\n",
    "He would chuck, he would, as much as he could,\n",
    "And chuck as much as a woodchuck would\n",
    "If a woodchuck could chuck wood  \"\"\"\n",
    "\n",
    "count_words(text)"
   ]
  },
  {
   "cell_type": "code",
   "execution_count": 10,
   "metadata": {},
   "outputs": [],
   "source": [
    "def count_words(text):\n",
    "    counts = dict()\n",
    "    list_of_words = text.split()\n",
    "    for word in list_of_words:\n",
    "        counts[word] = counts.get(word, 0) + 1\n",
    "    return counts"
   ]
  },
  {
   "cell_type": "code",
   "execution_count": 11,
   "metadata": {},
   "outputs": [
    {
     "data": {
      "text/plain": [
       "{'How': 1,\n",
       " 'much': 3,\n",
       " 'wood': 2,\n",
       " 'would': 3,\n",
       " 'a': 4,\n",
       " 'woodchuck': 4,\n",
       " 'chuck': 4,\n",
       " 'If': 2,\n",
       " 'could': 2,\n",
       " 'wood?': 1,\n",
       " 'He': 1,\n",
       " 'chuck,': 1,\n",
       " 'he': 2,\n",
       " 'would,': 1,\n",
       " 'as': 4,\n",
       " 'could,': 1,\n",
       " 'And': 1}"
      ]
     },
     "execution_count": 11,
     "metadata": {},
     "output_type": "execute_result"
    }
   ],
   "source": [
    "count_words(text)"
   ]
  }
 ],
 "metadata": {
  "kernelspec": {
   "display_name": "Python 3",
   "language": "python",
   "name": "python3"
  },
  "language_info": {
   "codemirror_mode": {
    "name": "ipython",
    "version": 3
   },
   "file_extension": ".py",
   "mimetype": "text/x-python",
   "name": "python",
   "nbconvert_exporter": "python",
   "pygments_lexer": "ipython3",
   "version": "3.7.1"
  }
 },
 "nbformat": 4,
 "nbformat_minor": 2
}
